{
 "cells": [
  {
   "cell_type": "markdown",
   "id": "4578deed",
   "metadata": {},
   "source": [
    "# Step 1 - Run this cell first (package management)"
   ]
  },
  {
   "cell_type": "markdown",
   "id": "180f7618",
   "metadata": {},
   "source": [
    "Select the cell and press Ctrl+Enter"
   ]
  },
  {
   "cell_type": "code",
   "execution_count": 4,
   "id": "3cc9fb3d",
   "metadata": {},
   "outputs": [],
   "source": [
    "# Package management\n",
    "from numpy import *\n",
    "import matplotlib.pyplot as plt\n",
    "from scipy.integrate import solve_ivp\n",
    "from scipy.optimize import root"
   ]
  },
  {
   "cell_type": "markdown",
   "id": "bdfca224",
   "metadata": {},
   "source": [
    "# Step 2 - Define parameters and initial conditions"
   ]
  },
  {
   "cell_type": "markdown",
   "id": "98c19459",
   "metadata": {},
   "source": [
    "This is the part of the code where we define the variables that will go into the differential equation."
   ]
  },
  {
   "cell_type": "code",
   "execution_count": 5,
   "id": "72fe11d4",
   "metadata": {},
   "outputs": [],
   "source": [
    "# g is the acceleration due to gravity\n",
    "g = 9.8\n",
    "\n",
    "# B is an air resistance coefficient\n",
    "B = 1.96\n",
    "\n",
    "# x0 is the initial position of the object\n",
    "x0 = 0.\n",
    "\n",
    "# v0 is the initial velocity of the object\n",
    "v0 = 0.\n",
    "\n",
    "# The solve_ivp function only solves the differential equation over a certain time interval, and only returns the position at certain points in time\n",
    "# -- tfinal -- is the end of the time interval we are solving for\n",
    "tfinal = 4."
   ]
  },
  {
   "cell_type": "markdown",
   "id": "cb79dc2d",
   "metadata": {},
   "source": [
    "# Step 3 - Define the differential equation"
   ]
  },
  {
   "cell_type": "markdown",
   "id": "a394b39a",
   "metadata": {},
   "source": [
    "We first need to define which differential equation we are solving. We do this by defining a particular python function. The function takes in the current time and the current values of position and velocity and returns dx/dt and dv/dt. It can also take in other parameters, like mass or g, etc.\n",
    "\n",
    "Besides the parameters, you should only ever need to change the line\n",
    "dvdt = ...\n",
    "That's the line that determines the differential equation. Newton's 2nd Law tells you what to put there. You can use math operations on the variables x and v to construct the right equation."
   ]
  },
  {
   "cell_type": "code",
   "execution_count": 6,
   "id": "f7f7036a",
   "metadata": {},
   "outputs": [],
   "source": [
    "def ode(t,vars,g,B):\n",
    "\tx = vars[0]\n",
    "\tv = vars[1]\n",
    "\t\n",
    "\t# Always have to have dxdt = v\n",
    "\tdxdt = v\n",
    "\t\n",
    "\t# MODIFY THIS LINE\n",
    "\t# This is where we calculate the acceleration given the position and velocity using Newton's 2nd law\n",
    "\tdvdt = -g - B*v\n",
    "\t\n",
    "\treturn([dxdt,dvdt])"
   ]
  },
  {
   "cell_type": "markdown",
   "id": "5d31179f",
   "metadata": {},
   "source": [
    "# Step 4 - Solve the differential equation"
   ]
  },
  {
   "cell_type": "code",
   "execution_count": 7,
   "id": "7d8840d5",
   "metadata": {},
   "outputs": [],
   "source": [
    "# solve_ivp is the function that actually solves the differential equation. We have to give it a bunch of information\n",
    "# \"ode\" is the ode function we defined earlier in the code\n",
    "# \"(0,tfinal)\" is the time range we are interested in\n",
    "# \"[x0,v0]\" is telling the function the initial conditions\n",
    "# \"args = (g,B)\" is telling the function the extra parameters that need to get passed on to the ode function.\n",
    "# \"dense_output = True\" is telling the function that we want it to give us a function that we can plug time into and get position and velocity back.\n",
    "#\t\t(Otherwise it just returns the position and velocity at a few specific times)\n",
    "\n",
    "odesolution = solve_ivp(ode,(0,tfinal),[x0,v0], args = (g, B), dense_output=True)\n",
    "xfunc = lambda t: odesolution.sol(t)[0]\n",
    "vfunc = lambda t: odesolution.sol(t)[1]\n",
    "\n",
    "# \"odesolution\" is now a variable that we can get information out of.\n",
    "# \"odesolution.sol\" is a function that we can plug a time into to get the position and velocity. E.g. \"odesolution(3.)\" might return [1.5, 2.6]\n",
    "# xfunc is a function that takes a time and returns the position -- If I want to know the position\n",
    "#        at t = 2.3 I would use \"xfunc(2.3)\"\n",
    "# vfunc is a function that takes a time and returns the velocity -- vfunc(1.2) is the velocity at t=1.2\n"
   ]
  },
  {
   "cell_type": "markdown",
   "id": "be0eb0c1",
   "metadata": {},
   "source": [
    "# Plotting the solution"
   ]
  },
  {
   "cell_type": "code",
   "execution_count": 9,
   "id": "98308f2a",
   "metadata": {},
   "outputs": [
    {
     "data": {
      "image/png": "[encoded data removed]",
      "text/plain": [
       "<Figure size 432x288 with 1 Axes>"
      ]
     },
     "metadata": {
      "needs_background": "light"
     },
     "output_type": "display_data"
    }
   ],
   "source": [
    "###\n",
    "# Plot the results\n",
    "###\n",
    "\n",
    "# Pick some specific times to look at\n",
    "Nt = 50\n",
    "tpoints = linspace(0,tfinal,Nt)\n",
    "\n",
    "#Calculate the position and velocity at those points\n",
    "[xpoints,vpoints] = odesolution.sol(tpoints)\n",
    "\n",
    "fig = plt.figure()\n",
    "# Plot v versus t. (The plt.plot function takes the x data first then the y data. Don't ask me why\n",
    "# The part \"'b-'\" tells the plot function to make a blue line.\n",
    "plt.plot(tpoints,vpoints,'b-')\n",
    "\n",
    "# Plot x versus t for an object without air resistance\n",
    "# plt.plot(t,v0-g*t,'r-')\n",
    "\n",
    "# Show the plot\n",
    "plt.show()\n",
    "\n",
    "\n",
    "# Save the figure\n",
    "# plt.savefig(\"filename.png\",bbox_inches='tight',dpi=600)"
   ]
  },
  {
   "cell_type": "markdown",
   "id": "d9e7cd31",
   "metadata": {},
   "source": [
    "# Solving with the solution "
   ]
  },
  {
   "cell_type": "markdown",
   "id": "7a62bf34",
   "metadata": {},
   "source": [
    "Often we want to take our solution and use it to solve for a specific time. To do this we will use the \"root\" function. But first we have to define what equation we are trying to solve. We do this by defining a python function that returns a function that is zero at the time that we want. \n",
    "\n",
    "For example, if we want to find the time when the position is 3.0 m we would define a function that returns x(t)-3.\n",
    "If we want to find the time that the velocity is 98% of the terminal velocity we would define a function that returns v(t) - 0.98* vT"
   ]
  },
  {
   "cell_type": "code",
   "execution_count": 10,
   "id": "447932d5",
   "metadata": {},
   "outputs": [],
   "source": [
    "# Root function for solving\n",
    "# This one solves for the time when the object reaches a certain position, x=-5 m\n",
    "def solvedist(t):\n",
    "    return xfunc(t) - (-5.)"
   ]
  },
  {
   "cell_type": "code",
   "execution_count": 11,
   "id": "d15ebf1b",
   "metadata": {},
   "outputs": [
    {
     "name": "stdout",
     "output_type": "stream",
     "text": [
      "[1.48234658]\n",
      "[-5.]\n"
     ]
    }
   ],
   "source": [
    "# Use the root function to solve for the time\n",
    "# \"solvedist\" is the equation function we defined above\n",
    "# \"3.\" is our initial guess for the time. If there's only one possible solution it doesn't matter very much\n",
    "#            what your guess is.\n",
    "# \"rootsol\" is a variable that has the solution and information about whether it's a good solution or not.\n",
    "rootsol = root(solvedist,3.)\n",
    "tsol = rootsol.x\n",
    "\n",
    "if rootsol.success:\n",
    "    print(tsol)\n",
    "    \n",
    "    # If we really found the correct time then this line should print \"-5\"\n",
    "    print(xfunc(tsol))\n",
    "else:\n",
    "    print(\"No solution found.\")"
   ]
  }
 ],
 "metadata": {
  "kernelspec": {
   "display_name": "Python 3 (ipykernel)",
   "language": "python",
   "name": "python3"
  },
  "language_info": {
   "codemirror_mode": {
    "name": "ipython",
    "version": 3
   },
   "file_extension": ".py",
   "mimetype": "text/x-python",
   "name": "python",
   "nbconvert_exporter": "python",
   "pygments_lexer": "ipython3",
   "version": "3.8.0"
  }
 },
 "nbformat": 4,
 "nbformat_minor": 5
}
